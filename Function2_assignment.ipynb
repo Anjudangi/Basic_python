{
 "cells": [
  {
   "cell_type": "markdown",
   "id": "f5ef93c0-ac26-4759-9543-d9ed7de54b28",
   "metadata": {},
   "source": [
    "# Q1. Create a python program to sort the given list of tuples based on integer value using a lambda function."
   ]
  },
  {
   "cell_type": "markdown",
   "id": "e216734f-9e58-438f-9da0-6b9655f54913",
   "metadata": {},
   "source": [
    "Ans.1 Here’s how you can use a lambda function to sort a list of tuples based on the integer value in each tuple."
   ]
  },
  {
   "cell_type": "code",
   "execution_count": 1,
   "id": "a8667d8a-f55c-4940-a006-a1fcec84d9d6",
   "metadata": {},
   "outputs": [
    {
     "name": "stdout",
     "output_type": "stream",
     "text": [
      "[('item2', 5), ('item4', 10), ('item3', 15), ('item1', 20)]\n"
     ]
    }
   ],
   "source": [
    "data = [('item1', 20), ('item2', 5), ('item3', 15), ('item4', 10)]\n",
    "# List of tuples\n",
    "data = [('item1', 20), ('item2', 5), ('item3', 15), ('item4', 10)]\n",
    "\n",
    "# Sorting the list of tuples based on the integer value (second element in each tuple)\n",
    "sorted_data = sorted(data, key=lambda x: x[1])\n",
    "\n",
    "# Printing the sorted list\n",
    "print(sorted_data)\n"
   ]
  },
  {
   "cell_type": "markdown",
   "id": "de20d62c-05e0-4afe-bfbf-bfb5f8018775",
   "metadata": {},
   "source": [
    "Explanation:\n",
    "The sorted() function is used to sort the list.\n",
    "The key parameter is set to a lambda function lambda x: x[1], which extracts the second element (the integer value) from each tuple.\n",
    "The list is sorted in ascending order based on these integer values."
   ]
  },
  {
   "cell_type": "markdown",
   "id": "f9cb1be5-4bfe-499a-9aa4-43f2b5d6c325",
   "metadata": {},
   "source": [
    "# Q2. Write a Python Program to find the squares of all the numbers in the given list of integers using lambda and map functions."
   ]
  },
  {
   "cell_type": "code",
   "execution_count": 3,
   "id": "afc09354-11c2-440c-9d0b-6f11d91eeacd",
   "metadata": {},
   "outputs": [
    {
     "name": "stdout",
     "output_type": "stream",
     "text": [
      "[4, 9, 25, 49, 121]\n"
     ]
    }
   ],
   "source": [
    "# Ans.2 You can use the lambda function along with the map() function to find the squares of all the numbers in a list of integers.\n",
    "\n",
    "    # Given list of integers\n",
    "numbers = [2, 3, 5, 7, 11]\n",
    "\n",
    "# Using lambda and map functions to find squares\n",
    "squares = list(map(lambda x: x ** 2, numbers))\n",
    "\n",
    "# Printing the resulting list of squares\n",
    "print(squares)\n"
   ]
  },
  {
   "cell_type": "markdown",
   "id": "03af07f7-8ead-438e-9e73-ec8f527685ab",
   "metadata": {},
   "source": [
    "Explanation:\n",
    "The map() function applies the lambda function to each element of the list.\n",
    "The lambda x: x ** 2 defines an anonymous function that takes a number x and returns its square.\n",
    "The list() function is used to convert the result of map() into a list."
   ]
  },
  {
   "cell_type": "markdown",
   "id": "cd3c151b-91b6-4614-bac8-8a127c5b6771",
   "metadata": {},
   "source": [
    "# Q3. Write a python program to convert the given list of integers into a tuple of strings. Use map and\n",
    "lambda function \r\n",
    "Given String: [1, 2, 3, 4, 5, 6, 7, 8, 9, 1 ]\r\n",
    "Expected output: ('1', '2', '3', '4', '5', '6', '7', '8', '9', '10')"
   ]
  },
  {
   "cell_type": "code",
   "execution_count": 5,
   "id": "0f40e8a6-b295-483d-b27f-bbed297b7f5f",
   "metadata": {},
   "outputs": [
    {
     "name": "stdout",
     "output_type": "stream",
     "text": [
      "('1', '2', '3', '4', '5', '6', '7', '8', '9', '10')\n"
     ]
    }
   ],
   "source": [
    "# Ans.3 You can use the map() function along with a lambda function to convert a list of integers into a tuple of strings.\n",
    "# Given list of integers\n",
    "numbers = [1, 2, 3, 4, 5, 6, 7, 8, 9, 10]\n",
    "\n",
    "# Using map and lambda functions to convert each integer to a string\n",
    "string_tuple = tuple(map(lambda x: str(x), numbers))\n",
    "\n",
    "# Printing the resulting tuple of strings\n",
    "print(string_tuple)\n"
   ]
  },
  {
   "cell_type": "markdown",
   "id": "7d60b39e-937e-43aa-8f38-954e7a3f2870",
   "metadata": {},
   "source": [
    "Explanation:\n",
    "The lambda function lambda x: str(x) converts each integer x into a string.\n",
    "The map() function applies this lambda function to each element of the list.\n",
    "The tuple() function is used to convert the result of map() into a tuple."
   ]
  },
  {
   "cell_type": "markdown",
   "id": "f9db9442-7e78-4398-a790-4fb83a38de9f",
   "metadata": {},
   "source": [
    "# Q4. Write a python program using reduce function to compute the product of a list containing numbers from 1 to 25."
   ]
  },
  {
   "cell_type": "code",
   "execution_count": 7,
   "id": "95904659-5ade-41d4-9c1a-e57dccef15a4",
   "metadata": {},
   "outputs": [
    {
     "name": "stdout",
     "output_type": "stream",
     "text": [
      "15511210043330985984000000\n"
     ]
    }
   ],
   "source": [
    "# Ans.4 You can use the reduce() function from the functools module to compute the product of a list of numbers. The reduce() function applies a\n",
    "# given function (in this case, multiplication) cumulatively to the items of the list, from left to right. \n",
    "\n",
    "from functools import reduce\n",
    "\n",
    "# List of numbers from 1 to 25\n",
    "numbers = list(range(1, 26))\n",
    "\n",
    "# Using reduce to compute the product of all numbers in the list\n",
    "product = reduce(lambda x, y: x * y, numbers)\n",
    "\n",
    "# Printing the result\n",
    "print(product)\n"
   ]
  },
  {
   "cell_type": "markdown",
   "id": "cea3ae85-cc9d-490b-baa2-32203510f94f",
   "metadata": {},
   "source": [
    "Explanation:\n",
    "lambda x, y: x * y defines a function that multiplies two numbers.\n",
    "reduce() applies this lambda function to the elements of the list cumulatively, resulting in the product of all the numbers.\n",
    "The list range(1, 26) generates numbers from 1 to 25."
   ]
  },
  {
   "cell_type": "markdown",
   "id": "92e37cdc-a410-4cbc-8ddb-e98df7963034",
   "metadata": {},
   "source": [
    "# Q5. Write a python program to filter the numbers in a given list that are divisible by 2 and 3 using the filter function. [2, 3, 6, 9, 27, 60, 90, 120, 55, 46]"
   ]
  },
  {
   "cell_type": "code",
   "execution_count": 8,
   "id": "6b8d03a2-5f2a-4e0d-bcf5-691d474987ed",
   "metadata": {},
   "outputs": [
    {
     "name": "stdout",
     "output_type": "stream",
     "text": [
      "[6, 60, 90, 120]\n"
     ]
    }
   ],
   "source": [
    "# Ans.5  You can use the filter() function along with a lambda function to filter numbers in a list that are divisible by both 2 and 3.\n",
    "# Given list of numbers\n",
    "numbers = [2, 3, 6, 9, 27, 60, 90, 120, 55, 46]\n",
    "\n",
    "# Using filter and lambda to get numbers divisible by both 2 and 3\n",
    "filtered_numbers = list(filter(lambda x: x % 2 == 0 and x % 3 == 0, numbers))\n",
    "\n",
    "# Printing the filtered numbers\n",
    "print(filtered_numbers)\n"
   ]
  },
  {
   "cell_type": "markdown",
   "id": "c7cac652-6978-44bf-9199-4ba022cf7e99",
   "metadata": {},
   "source": [
    "# Q6. Write a python program to find palindromes in the given list of strings using lambda and filter function. ['python', 'php', 'aba', 'radar', 'level']"
   ]
  },
  {
   "cell_type": "code",
   "execution_count": null,
   "id": "f10876fb-0b4a-422a-8b54-6f126fb1c72e",
   "metadata": {},
   "outputs": [],
   "source": [
    "Ans.6 "
   ]
  }
 ],
 "metadata": {
  "kernelspec": {
   "display_name": "Python 3 (ipykernel)",
   "language": "python",
   "name": "python3"
  },
  "language_info": {
   "codemirror_mode": {
    "name": "ipython",
    "version": 3
   },
   "file_extension": ".py",
   "mimetype": "text/x-python",
   "name": "python",
   "nbconvert_exporter": "python",
   "pygments_lexer": "ipython3",
   "version": "3.12.4"
  }
 },
 "nbformat": 4,
 "nbformat_minor": 5
}
