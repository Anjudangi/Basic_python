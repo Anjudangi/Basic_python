{
 "cells": [
  {
   "cell_type": "markdown",
   "id": "31416de8-3ead-4217-828a-bab4941a28d2",
   "metadata": {},
   "source": [
    "# Q1. Which keyword is used to create a function? Create a function to return a list of odd numbers in the range of 1 to 25."
   ]
  },
  {
   "cell_type": "code",
   "execution_count": 1,
   "id": "20ed73e1-ecaf-4aa8-b712-b9d1304f7820",
   "metadata": {},
   "outputs": [
    {
     "name": "stdout",
     "output_type": "stream",
     "text": [
      "[1, 3, 5, 7, 9, 11, 13, 15, 17, 19, 21, 23, 25]\n"
     ]
    }
   ],
   "source": [
    " # Ans.1 In Python, the keyword used to create a function is def.\n",
    "\n",
    "def odd_numbers():\n",
    "    return [num for num in range(1, 26) if num % 2 != 0]\n",
    "\n",
    "# Calling the function\n",
    "odd_list = odd_numbers()\n",
    "print(odd_list)\n"
   ]
  },
  {
   "cell_type": "markdown",
   "id": "74e680a8-ba54-4800-98a6-f412973dc3fe",
   "metadata": {},
   "source": [
    "# Q2. Why *args and **kwargs is used in some functions? Create a function each for *args and **kwargs to demonstrate their use."
   ]
  },
  {
   "cell_type": "code",
   "execution_count": 3,
   "id": "82eb3650-bd81-4873-b83e-4eab38ea6128",
   "metadata": {},
   "outputs": [
    {
     "name": "stdout",
     "output_type": "stream",
     "text": [
      "15\n"
     ]
    }
   ],
   "source": [
    "# Ans.2 In Python:\n",
    "\n",
    "# *args is used to pass a variable number of positional arguments to a function. It allows the function to accept any number of arguments and packs them \n",
    "# into a tuple.\n",
    "# **kwargs is used to pass a variable number of keyword arguments to a function. It allows the function to accept any number of named arguments \n",
    "# (key-value pairs) and packs them into a dictionary.\n",
    "\n",
    "def sum_numbers(*args):\n",
    "    return sum(args)\n",
    "\n",
    "# Calling the function with multiple arguments\n",
    "result = sum_numbers(1, 2, 3, 4, 5)\n",
    "print(result)\n",
    "\n"
   ]
  },
  {
   "cell_type": "code",
   "execution_count": 4,
   "id": "482cba81-798a-4e31-8db5-303790e5225c",
   "metadata": {},
   "outputs": [
    {
     "name": "stdout",
     "output_type": "stream",
     "text": [
      "name: Alice\n",
      "age: 30\n",
      "city: New York\n"
     ]
    }
   ],
   "source": [
    "def print_info(**kwargs):\n",
    "    for key, value in kwargs.items():\n",
    "        print(f\"{key}: {value}\")\n",
    "\n",
    "# Calling the function with keyword arguments\n",
    "print_info(name=\"Alice\", age=30, city=\"New York\")\n"
   ]
  },
  {
   "cell_type": "markdown",
   "id": "b4d74515-cc53-4508-97f3-f87ef6053900",
   "metadata": {},
   "source": [
    "# Q3. What is an iterator in python? Name the method used to initialise the iterator object and the method\n",
    "# used for iteration. Use these methods to print the first five elements of the given list [2, 4, 6, 8, 10, 12, 14,16, 18, 20]."
   ]
  },
  {
   "cell_type": "code",
   "execution_count": 6,
   "id": "c4055056-03dd-4e19-9b66-def454aee5cc",
   "metadata": {},
   "outputs": [
    {
     "name": "stdout",
     "output_type": "stream",
     "text": [
      "2\n",
      "4\n",
      "6\n",
      "8\n",
      "10\n"
     ]
    }
   ],
   "source": [
    "# Ans.3 An iterator in Python is an object that can be iterated (traversed) upon, meaning it allows you to loop through its elements one by one. It implements two key methods:\n",
    "\n",
    "# __iter__(): This method initializes or resets the iterator object. It returns the iterator object itself.\n",
    "# __next__(): This method is used for iteration. It returns the next element in the sequence. If no more elements are left, it raises a StopIteration exception.\n",
    "# Given list\n",
    "numbers = [2, 4, 6, 8, 10, 12, 14, 16, 18, 20]\n",
    "\n",
    "# Create an iterator object\n",
    "iterator = iter(numbers)  # This calls the __iter__() method\n",
    "\n",
    "# Iterate through the first five elements using __next__()\n",
    "for _ in range(5):\n",
    "    print(next(iterator))  # This calls the __next__() method\n",
    "\n",
    "# Explanation:\n",
    "# iter(numbers) initializes the iterator object for the list.\n",
    "# next(iterator) fetches the next item from the iterator.\n",
    "# The loop runs 5 times to print the first five elements of the list: 2, 4, 6, 8, 10.\n",
    "\n"
   ]
  },
  {
   "cell_type": "markdown",
   "id": "3fa2c35d-c76f-44ca-b71c-fcfe2f75ffc9",
   "metadata": {},
   "source": [
    "# Q4. What is a generator function in python? Why yield keyword is used? Give an example of a generator function."
   ]
  },
  {
   "cell_type": "markdown",
   "id": "7811b6e2-28d8-4c94-a9e6-babb95eb3ca5",
   "metadata": {},
   "source": [
    " Ans.4 A generator function is a special type of function in Python that yields a sequence of values, one at a time, instead of returning all of them at once. This makes generators memory-efficient, as they produce items on demand rather than generating and holding all items in memory at once.\n",
    "\n",
    "Why is the yield Keyword Used?\n",
    "The yield keyword is used in a generator function to produce a value and pause the function's execution. When the function is called again (usually using next()), it resumes execution from where it left off, rather than starting over. This allows the function to \"remember\" its state between calls.\n",
    "\n",
    "The key difference between return and yield:\n",
    "\n",
    "return exits the function entirely, returning a value.\n",
    "yield pauses the function, returning a value, but the function can be resumed later."
   ]
  },
  {
   "cell_type": "code",
   "execution_count": 8,
   "id": "4e9a22ac-bb3a-496c-bdc8-fe3cd1849e77",
   "metadata": {},
   "outputs": [
    {
     "name": "stdout",
     "output_type": "stream",
     "text": [
      "5\n",
      "4\n",
      "3\n",
      "2\n",
      "1\n"
     ]
    }
   ],
   "source": [
    "def count_down(n):\n",
    "    while n > 0:\n",
    "        yield n  # Pause here and return the current value of n\n",
    "        n -= 1  # Decrement n\n",
    "\n",
    "# Create a generator object\n",
    "gen = count_down(5)\n",
    "\n",
    "# Iterate through the generator\n",
    "for num in gen:\n",
    "    print(num)\n"
   ]
  },
  {
   "cell_type": "markdown",
   "id": "3d2bf962-d894-4fef-8e3c-ac7578760c94",
   "metadata": {},
   "source": [
    "# Q5. Create a generator function for prime numbers less than 1000. Use the next() method to print the first 20 prime numbers."
   ]
  },
  {
   "cell_type": "markdown",
   "id": "9374a362-76db-4c0e-8778-b6ce57c75f52",
   "metadata": {},
   "source": [
    "Ans.5 Here's a generator function to yield prime numbers less than 1000, along with code to print the first 20 prime numbers using the next() method."
   ]
  },
  {
   "cell_type": "code",
   "execution_count": 9,
   "id": "174346e3-0d4f-4da5-8e55-deb8e3102899",
   "metadata": {},
   "outputs": [
    {
     "name": "stdout",
     "output_type": "stream",
     "text": [
      "2\n",
      "3\n",
      "5\n",
      "7\n",
      "11\n",
      "13\n",
      "17\n",
      "19\n",
      "23\n",
      "29\n",
      "31\n",
      "37\n",
      "41\n",
      "43\n",
      "47\n",
      "53\n",
      "59\n",
      "61\n",
      "67\n",
      "71\n"
     ]
    }
   ],
   "source": [
    "def prime_numbers():\n",
    "    for num in range(2, 1000):  # Start from 2 since 1 is not prime\n",
    "        is_prime = True\n",
    "        for i in range(2, int(num ** 0.5) + 1):  # Check divisibility up to sqrt(num)\n",
    "            if num % i == 0:\n",
    "                is_prime = False\n",
    "                break\n",
    "        if is_prime:\n",
    "            yield num  # Yield the prime number when found\n",
    "\n",
    "# Create a generator object\n",
    "primes_gen = prime_numbers()\n",
    "\n",
    "# Print the first 20 prime numbers using the next() method\n",
    "for _ in range(20):\n",
    "    print(next(primes_gen))\n"
   ]
  },
  {
   "cell_type": "markdown",
   "id": "9e5c3b8d-e263-4db3-ab22-8e3f4abd7bd8",
   "metadata": {},
   "source": [
    "Explanation:\n",
    "The generator function prime_numbers() iterates through numbers from 2 to 999.\n",
    "For each number, it checks whether the number is prime by testing divisibility up to its square root (int(num ** 0.5) + 1).\n",
    "If the number is prime, it uses yield to return the number and pause the function.\n",
    "The next() method is called in a loop to fetch the first 20 prime numbers."
   ]
  },
  {
   "cell_type": "code",
   "execution_count": null,
   "id": "d8189594-0065-40b9-9532-7a66ae294c6a",
   "metadata": {},
   "outputs": [],
   "source": []
  }
 ],
 "metadata": {
  "kernelspec": {
   "display_name": "Python 3 (ipykernel)",
   "language": "python",
   "name": "python3"
  },
  "language_info": {
   "codemirror_mode": {
    "name": "ipython",
    "version": 3
   },
   "file_extension": ".py",
   "mimetype": "text/x-python",
   "name": "python",
   "nbconvert_exporter": "python",
   "pygments_lexer": "ipython3",
   "version": "3.12.4"
  }
 },
 "nbformat": 4,
 "nbformat_minor": 5
}
